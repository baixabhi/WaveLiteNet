{
  "cells": [
    {
      "cell_type": "code",
      "execution_count": null,
      "id": "3c8ff5fc",
      "metadata": {
        "execution": {
          "iopub.execute_input": "2024-11-14T17:24:50.029413Z",
          "iopub.status.busy": "2024-11-14T17:24:50.029115Z",
          "iopub.status.idle": "2024-11-14T17:24:50.261835Z",
          "shell.execute_reply": "2024-11-14T17:24:50.260629Z"
        },
        "papermill": {
          "duration": 0.24441,
          "end_time": "2024-11-14T17:24:50.263897",
          "exception": false,
          "start_time": "2024-11-14T17:24:50.019487",
          "status": "completed"
        },
        "tags": [],
        "id": "3c8ff5fc",
        "outputId": "c4efd677-44d2-49bb-8067-8e321368b300"
      },
      "outputs": [
        {
          "name": "stdout",
          "output_type": "stream",
          "text": [
            "\n",
            "Model Complexity Analysis:\n",
            "Total Parameters: 1,138,876\n",
            "Trainable Parameters: 1,138,876\n",
            "Model Size: 4.34 MB\n",
            "Approximate FLOPs: 122,490,672.0\n",
            "\n",
            "Architecture Features:\n",
            "- use_depthwise_separable: Yes\n",
            "- use_squeeze_excitation: Yes\n",
            "- inverted_residuals: Yes\n"
          ]
        }
      ],
      "source": [
        "from torch import nn\n",
        "import numpy as np\n",
        "\n",
        "def analyze_model_complexity(model, input_size=(1, 3, 224, 224)):\n",
        "    \"\"\"\n",
        "    Analyzes the complexity of a PyTorch model.\n",
        "    Args:\n",
        "        model: PyTorch model to analyze\n",
        "        input_size: Input tensor size (batch_size, channels, height, width)\n",
        "    Returns:\n",
        "        dict: Dictionary containing various complexity metrics\n",
        "    \"\"\"\n",
        "    # Count parameters\n",
        "    total_params = sum(p.numel() for p in model.parameters())\n",
        "    trainable_params = sum(p.numel() for p in model.parameters() if p.requires_grad)\n",
        "\n",
        "    # Calculate model size in MB\n",
        "    model_size = sum(p.nelement() * p.element_size() for p in model.parameters()) / (1024 * 1024)\n",
        "\n",
        "    # Get FLOPs and MACs\n",
        "    def hook_fn(module, input, output):\n",
        "        if isinstance(module, (nn.Conv2d, nn.Linear)):\n",
        "            if isinstance(module, nn.Linear):\n",
        "                hook_fn.flops += np.prod(output.shape) * module.in_features\n",
        "            else:\n",
        "                hook_fn.flops += np.prod(output.shape) * module.in_channels * module.kernel_size[0] * module.kernel_size[1] / module.groups\n",
        "\n",
        "    hook_fn.flops = 0\n",
        "    hooks = []\n",
        "\n",
        "    # Register hooks\n",
        "    for m in model.modules():\n",
        "        if isinstance(m, (nn.Conv2d, nn.Linear)):\n",
        "            hooks.append(m.register_forward_hook(hook_fn))\n",
        "\n",
        "    # Run a forward pass\n",
        "    with torch.no_grad():\n",
        "        model(torch.rand(input_size))\n",
        "\n",
        "    # Remove hooks\n",
        "    for hook in hooks:\n",
        "        hook.remove()\n",
        "\n",
        "    return {\n",
        "        \"total_parameters\": total_params,\n",
        "        \"trainable_parameters\": trainable_params,\n",
        "        \"model_size_mb\": model_size,\n",
        "        \"approximate_flops\": hook_fn.flops,\n",
        "        \"architecture_analysis\": {\n",
        "            \"use_depthwise_separable\": any(isinstance(m, nn.Conv2d) and m.groups > 1 for m in model.modules()),\n",
        "            \"use_squeeze_excitation\": any(isinstance(m, SEBlock) for m in model.modules()),\n",
        "            \"inverted_residuals\": any(isinstance(m, InvertedResidual) for m in model.modules())\n",
        "        }\n",
        "    }\n",
        "# Example usage\n",
        "model = WMobNetv2()\n",
        "metrics = analyze_model_complexity(model)\n",
        "\n",
        "# Print analysis\n",
        "print(\"\\nModel Complexity Analysis:\")\n",
        "print(f\"Total Parameters: {metrics['total_parameters']:,}\")\n",
        "print(f\"Trainable Parameters: {metrics['trainable_parameters']:,}\")\n",
        "print(f\"Model Size: {metrics['model_size_mb']:.2f} MB\")\n",
        "print(f\"Approximate FLOPs: {metrics['approximate_flops']:,}\")\n",
        "\n",
        "print(\"\\nArchitecture Features:\")\n",
        "for feature, present in metrics['architecture_analysis'].items():\n",
        "    print(f\"- {feature}: {'Yes' if present else 'No'}\")"
      ]
    }
  ],
  "metadata": {
    "kaggle": {
      "accelerator": "nvidiaTeslaT4",
      "dataSources": [
        {
          "datasetId": 6086951,
          "sourceId": 9907396,
          "sourceType": "datasetVersion"
        }
      ],
      "dockerImageVersionId": 30787,
      "isGpuEnabled": true,
      "isInternetEnabled": true,
      "language": "python",
      "sourceType": "notebook"
    },
    "kernelspec": {
      "display_name": "Python 3",
      "language": "python",
      "name": "python3"
    },
    "language_info": {
      "codemirror_mode": {
        "name": "ipython",
        "version": 3
      },
      "file_extension": ".py",
      "mimetype": "text/x-python",
      "name": "python",
      "nbconvert_exporter": "python",
      "pygments_lexer": "ipython3",
      "version": "3.10.14"
    },
    "papermill": {
      "default_parameters": {},
      "duration": 35462.565672,
      "end_time": "2024-11-15T03:14:24.162266",
      "environment_variables": {},
      "exception": null,
      "input_path": "__notebook__.ipynb",
      "output_path": "__notebook__.ipynb",
      "parameters": {},
      "start_time": "2024-11-14T17:23:21.596594",
      "version": "2.6.0"
    },
    "colab": {
      "provenance": []
    }
  },
  "nbformat": 4,
  "nbformat_minor": 5
}